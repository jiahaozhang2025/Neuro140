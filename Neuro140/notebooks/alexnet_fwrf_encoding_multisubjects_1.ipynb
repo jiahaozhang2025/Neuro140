{
 "cells": [
  {
   "cell_type": "code",
   "execution_count": 1,
   "metadata": {},
   "outputs": [
    {
     "name": "stderr",
     "output_type": "stream",
     "text": [
      "C:\\Users\\jiahaozhang\\AppData\\Local\\Temp\\ipykernel_47864\\1226147920.py:1: DeprecationWarning: Importing display from IPython.core.display is deprecated since IPython 7.14, please import from IPython.display\n",
      "  from IPython.core.display import display, HTML\n"
     ]
    },
    {
     "data": {
      "text/html": [
       "<style>.container { width:95% !important; }</style>"
      ],
      "text/plain": [
       "<IPython.core.display.HTML object>"
      ]
     },
     "metadata": {},
     "output_type": "display_data"
    }
   ],
   "source": [
    "from IPython.core.display import display, HTML\n",
    "display(HTML(\"<style>.container { width:95% !important; }</style>\"))"
   ]
  },
  {
   "cell_type": "code",
   "execution_count": 2,
   "metadata": {},
   "outputs": [],
   "source": [
    "#nsd_root   = \"/home/styvesg/repo.data/datasets/nsd/\"\n",
    "nsd_root = \"C:/Data/nsd_test/\"\n",
    "stim_root  = nsd_root + \"nsddata_stimuli/stimuli/nsd/\"\n",
    "synth_root = nsd_root + \"nsddata_stimuli/stimuli/nsdsynthetic/\"\n",
    "beta_root  = nsd_root + \"nsddata_betas/ppdata/\"\n",
    "\n",
    "nsd_root0 = \"C:/Data/nsd/\"\n",
    "beta_root0  = nsd_root0 + \"nsddata_betas/ppdata/\"\n",
    "\n",
    "exp_design_file = nsd_root + \"nsddata/experiments/nsd/nsd_expdesign.mat\"\n",
    "synth_design_file = nsd_root + \"nsddata/experiments/nsdsynthetic/nsdsynthetic_expdesign.mat\"\n",
    "stim_file       = stim_root + \"nsd_stimuli.hdf5\"\n",
    "synth_file      = synth_root + \"nsdsynthetic_stimuli.hdf5\""
   ]
  },
  {
   "cell_type": "markdown",
   "metadata": {},
   "source": [
    "# Stimulus-driven predictive model of brain activity.\n",
    "What we will need:\n",
    "- \"imagenet_trained_model_weights.pkl\"\n",
    "- The betas and experiment stimuli\n",
    "- A brain mask"
   ]
  },
  {
   "cell_type": "code",
   "execution_count": 11,
   "metadata": {},
   "outputs": [],
   "source": [
    "import src.numpy_utility as pnu\n",
    "from src.file_utility import save_stuff, flatten_dict, embed_dict, zip_dict\n",
    "from src.config import *\n",
    "\n",
    "%matplotlib inline"
   ]
  },
  {
   "cell_type": "code",
   "execution_count": 22,
   "metadata": {},
   "outputs": [
    {
     "name": "stdout",
     "output_type": "stream",
     "text": [
      "#device: 1\n",
      "device#: 0\n",
      "device name: NVIDIA GeForce RTX 2080\n",
      "\n",
      "torch: 2.6.0+cu126\n",
      "cuda:  12.6\n",
      "cudnn: 90501\n",
      "dtype: torch.float32\n"
     ]
    }
   ],
   "source": [
    "import torch\n",
    "print ('#device:', torch.cuda.device_count())\n",
    "print ('device#:', torch.cuda.current_device())\n",
    "print ('device name:', torch.cuda.get_device_name(torch.cuda.current_device()))\n",
    "\n",
    "torch.manual_seed(time.time())\n",
    "device = torch.device(\"cuda:0\") #cuda\n",
    "torch.backends.cudnn.enabled=True\n",
    "\n",
    "print ('\\ntorch:', torch.__version__)\n",
    "print ('cuda: ', torch.version.cuda)\n",
    "print ('cudnn:', torch.backends.cudnn.version())\n",
    "print ('dtype:', torch.get_default_dtype())\n",
    "#torch.set_default_dtype(torch.float64)"
   ]
  },
  {
   "cell_type": "code",
   "execution_count": 23,
   "metadata": {},
   "outputs": [
    {
     "name": "stdout",
     "output_type": "stream",
     "text": [
      "Time Stamp: May-03-2025_1335\n"
     ]
    }
   ],
   "source": [
    "timestamp = time.strftime('%b-%d-%Y_%H%M', time.localtime()) # 'Aug-10-2020_1638' #\n",
    "\n",
    "model_name = 'anet_fwrf_nsdgeneral'\n",
    "model_dir = '%s_%s' % (model_name, timestamp)\n",
    "\n",
    "output_dir = root_dir+\"output/multisubject/%s_%s/\" % (model_name,timestamp) \n",
    "\n",
    "trn_subjects = [1,2,3,4,5,6,7,8]\n",
    "for k,s in enumerate(trn_subjects): \n",
    "    subject_dir = output_dir + 'S%02d/'%s\n",
    "    if not os.path.exists(subject_dir):\n",
    "        os.makedirs(subject_dir)   \n",
    "print (\"Time Stamp: %s\" % timestamp)"
   ]
  },
  {
   "cell_type": "code",
   "execution_count": 9,
   "metadata": {},
   "outputs": [],
   "source": [
    "trn_subjects=[1]"
   ]
  },
  {
   "cell_type": "markdown",
   "metadata": {},
   "source": [
    "# Load the stimuli images"
   ]
  },
  {
   "cell_type": "code",
   "execution_count": 18,
   "metadata": {},
   "outputs": [
    {
     "name": "stdout",
     "output_type": "stream",
     "text": [
      "--------  subject 1  -------\n",
      "block size: (10000, 3, 227, 227) , dtype: uint8 , value range: 0 255\n"
     ]
    }
   ],
   "source": [
    "exp_design = loadmat(exp_design_file)\n",
    "ordering = exp_design['masterordering'].flatten() - 1 # zero-indexed ordering of indices (matlab-like to python-like)\n",
    "\n",
    "image_data = {}\n",
    "for s in trn_subjects: \n",
    "    image_data_set = h5py.File(stim_dir + \"S%d_stimuli_227.h5py\"%s, 'r')\n",
    "    image_data[s] = np.copy(image_data_set['stimuli'])\n",
    "    image_data_set.close()\n",
    "    print ('--------  subject %d  -------' % s)\n",
    "    print ('block size:', image_data[s].shape, ', dtype:', image_data[s].dtype, ', value range:',\\\n",
    "           np.min(image_data[s][0]), np.max(image_data[s][0]))"
   ]
  },
  {
   "cell_type": "markdown",
   "metadata": {},
   "source": [
    "# Load the voxel data\n",
    "- We load a subset (a range of voxels) of all voxel for the sake of the example."
   ]
  },
  {
   "cell_type": "code",
   "execution_count": 4,
   "metadata": {},
   "outputs": [],
   "source": [
    "from src.file_utility import load_mask_from_nii, view_data\n",
    "from src.roi import roi_map, iterate_roi"
   ]
  },
  {
   "cell_type": "code",
   "execution_count": 5,
   "metadata": {},
   "outputs": [],
   "source": [
    "beta_dir = 'C:/Data/nsd/nsddata_betas/ppdata/'"
   ]
  },
  {
   "cell_type": "code",
   "execution_count": 12,
   "metadata": {},
   "outputs": [
    {
     "name": "stdout",
     "output_type": "stream",
     "text": [
      "--------  subject 1  -------\n"
     ]
    }
   ],
   "source": [
    "group_names = ['V1', 'V2', 'V3', 'hV4', 'V3ab', 'LO', 'IPS', 'VO', 'PHC', 'MT', 'MST', 'other']\n",
    "group = [[1,2],[3,4],[5,6], [7], [16, 17], [14, 15], [18,19,20,21,22,23], [8, 9], [10,11], [13], [12], [24,25,0]]\n",
    "\n",
    "brain_nii_shape, voxel_mask, voxel_idx, voxel_roi, voxel_ncsnr = {}, {}, {}, {}, {}\n",
    "\n",
    "for k,s in enumerate(trn_subjects):\n",
    "    print ('--------  subject %d  -------' % s)\n",
    "    #voxel_mask_full = load_mask_from_nii(mask_dir + \"subj%02d/func1pt8mm/brainmask_vcventral_1.0.nii\"%s)\n",
    "    voxel_mask_full = load_mask_from_nii(mask_dir + \"subj%02d/func1pt8mm/brainmask_nsdgeneral_1.0.nii\"%s)\n",
    "    voxel_roi_full  = load_mask_from_nii(mask_dir0 + \"subj%02d/func1pt8mm/roi/prf-visualrois.nii.gz\"%s)\n",
    "    voxel_kast_full = load_mask_from_nii(mask_dir0 + \"subj%02d/func1pt8mm/roi/Kastner2015.nii.gz\"%(s))\n",
    "    general_mask_full  = load_mask_from_nii(mask_dir0 + \"subj%02d/func1pt8mm/roi/nsdgeneral.nii.gz\"%(s))\n",
    "    ncsnr_full = load_mask_from_nii(beta_dir + \"subj%02d/func1pt8mm/betas_fithrf_GLMdenoise_RR/ncsnr.nii.gz\"%s)\n",
    "    ###\n",
    "    brain_nii_shape[s] = voxel_roi_full.shape\n",
    "    #print (brain_nii_shape[s])\n",
    "    ###\n",
    "    voxel_roi_mask_full = (voxel_roi_full>0).flatten().astype(bool)\n",
    "    voxel_joined_roi_full = np.copy(voxel_kast_full.flatten())  # load kastner rois\n",
    "    voxel_joined_roi_full[voxel_roi_mask_full] = voxel_roi_full.flatten()[voxel_roi_mask_full] # overwrite with prf rois\n",
    "    ###\n",
    "    voxel_mask[s]  = np.nan_to_num(voxel_mask_full).flatten().astype(bool)\n",
    "    voxel_idx[s]   = np.arange(len(voxel_mask[s]))[voxel_mask[s]]\n",
    "    voxel_roi[s]   = voxel_joined_roi_full[voxel_mask[s]]\n",
    "    voxel_ncsnr[s] = ncsnr_full.flatten()[voxel_mask[s]]\n",
    "        \n",
    "    #print ('full mask length = %d'%len(voxel_mask[s]))\n",
    "    #print ('selection length = %d'%np.sum(voxel_mask[s]))\n",
    "    \n",
    "    #for roi_mask, roi_name in iterate_roi(group, voxel_roi[s], roi_map, group_name=group_names):\n",
    "        #print (\"%d \\t: %s\" % (np.sum(roi_mask), roi_name))"
   ]
  },
  {
   "cell_type": "markdown",
   "metadata": {},
   "source": [
    "# Load voxels\n",
    "## Quick load"
   ]
  },
  {
   "cell_type": "code",
   "execution_count": 14,
   "metadata": {},
   "outputs": [],
   "source": [
    "voxel_data_set = h5py.File(voxel_dir+'voxel_data_general_part1_gnet8j.h5py', 'r')\n",
    "voxel_data_dict = embed_dict({k: np.copy(d) for k,d in voxel_data_set.items()})\n",
    "voxel_data_set.close()\n",
    "voxel_data = {int(k): v for k, v in voxel_data_dict['voxel_data'].items()}"
   ]
  },
  {
   "cell_type": "markdown",
   "metadata": {},
   "source": [
    "## Reduce the stimulus set to those of which we have responses so far.\n",
    "- It just so happens that images with index less than 1000 are shared among subjects and are garanteed not to be shown in the remainder. We therefore chose to reparate our training and validation set along these lines.\n",
    "- We could have reduced the number of voxels already but I needed them for something else at another point."
   ]
  },
  {
   "cell_type": "code",
   "execution_count": 19,
   "metadata": {},
   "outputs": [
    {
     "name": "stdout",
     "output_type": "stream",
     "text": [
      "--------  subject 1  -------\n",
      "Total number of voxels = 4657\n"
     ]
    }
   ],
   "source": [
    "from src.load_nsd import image_feature_fn, ordering_split\n",
    "trn_stim_ordering, trn_voxel_data, val_stim_ordering, val_voxel_data = {},{},{},{}\n",
    "\n",
    "stim_data = {}\n",
    "data_size, nnv = {}, {}\n",
    "for k,s in enumerate(trn_subjects):\n",
    "    print ('--------  subject %d  -------' % s)\n",
    "    data_size[s], nnv[s] = voxel_data[s].shape      \n",
    "    stim_data[s] = image_feature_fn(image_data[s])\n",
    "    \n",
    "    trn_stim_ordering[s], trn_voxel_data[s], \\\n",
    "    val_stim_ordering[s], val_voxel_data[s] = \\\n",
    "        ordering_split(voxel_data[s], ordering, combine_trial=False)\n",
    "    "
   ]
  },
  {
   "cell_type": "markdown",
   "metadata": {},
   "source": [
    "---\n",
    "# Load Model"
   ]
  },
  {
   "cell_type": "code",
   "execution_count": 24,
   "metadata": {},
   "outputs": [],
   "source": [
    "from models.alexnet import Alexnet_fmaps\n",
    "from src.torch_fwrf import Torch_fwRF_voxel_block\n",
    "_fmaps_fn = Alexnet_fmaps(pretrained=True).to(device)"
   ]
  },
  {
   "cell_type": "code",
   "execution_count": 26,
   "metadata": {},
   "outputs": [
    {
     "name": "stdout",
     "output_type": "stream",
     "text": [
      "torch.Size([100, 64, 27, 27])\n",
      "torch.Size([100, 192, 27, 27])\n",
      "torch.Size([100, 384, 13, 13])\n",
      "torch.Size([100, 256, 13, 13])\n",
      "torch.Size([100, 256, 13, 13])\n",
      "torch.Size([100, 4096, 1, 1])\n",
      "torch.Size([100, 4096, 1, 1])\n",
      "torch.Size([100, 1000, 1, 1])\n"
     ]
    }
   ],
   "source": [
    "_x = torch.tensor(stim_data[trn_subjects[0]][:100]).to(device) # the input variable.\n",
    "_fmaps = _fmaps_fn(_x)\n",
    "for k,_fm in enumerate(_fmaps):\n",
    "    print (_fm.size())"
   ]
  },
  {
   "cell_type": "code",
   "execution_count": 27,
   "metadata": {},
   "outputs": [
    {
     "name": "stderr",
     "output_type": "stream",
     "text": [
      "100it [00:20,  4.92it/s]"
     ]
    },
    {
     "name": "stdout",
     "output_type": "stream",
     "text": [
      "layer: 0, shape=(100, 64, 27, 27)\n",
      "layer: 1, shape=(100, 192, 27, 27)\n",
      "layer: 2, shape=(100, 384, 13, 13)\n",
      "layer: 3, shape=(100, 256, 13, 13)\n",
      "layer: 4, shape=(100, 256, 13, 13)\n",
      "layer: 5, shape=(100, 512, 1, 1)\n",
      "layer: 6, shape=(100, 512, 1, 1)\n",
      "layer: 7, shape=(100, 512, 1, 1)\n",
      "\n",
      "fmaps: 0, shape=(100, 256, 27, 27)\n",
      "fmaps: 1, shape=(100, 896, 13, 13)\n",
      "fmaps: 2, shape=(100, 1536, 1, 1)\n"
     ]
    },
    {
     "name": "stderr",
     "output_type": "stream",
     "text": [
      "\n"
     ]
    }
   ],
   "source": [
    "from src.torch_feature_space import filter_dnn_feature_maps\n",
    "\n",
    "fmap_max = 512\n",
    "# I used image_data because the repeats are not relevant\n",
    "_fmaps_fn, lmask, fmask, tuning_masks = \\\n",
    "    filter_dnn_feature_maps(np.concatenate([d for s,d in stim_data.items()], axis=0), _fmaps_fn, batch_size=100, fmap_max=fmap_max)"
   ]
  },
  {
   "cell_type": "code",
   "execution_count": 28,
   "metadata": {},
   "outputs": [
    {
     "name": "stdout",
     "output_type": "stream",
     "text": [
      "candidate count =  2671\n"
     ]
    }
   ],
   "source": [
    "from src.rf_grid    import linspace, logspace, model_space, model_space_pyramid\n",
    "from src.torch_fwrf import learn_params_ridge_regression, get_predictions\n",
    "\n",
    "aperture = np.float32(1)\n",
    "nx = ny = 11\n",
    "smin, smax = np.float32(0.03), np.float32(0.4)\n",
    "ns = 8\n",
    "\n",
    "# sharedModel specification is a list of 3 ranges and 3 callable functor. The reason for this is for a future implementation of dynamic mesh refinement.\n",
    "#model_specs = [[(0., aperture*1.1), (0., aperture*1.1), (smin, smax)], [linspace(nx), linspace(ny), logspace(ns)]]\n",
    "#models = model_space(model_specs)\n",
    "models = model_space_pyramid(logspace(ns)(smin, smax), min_spacing=1., aperture=1.1*aperture)\n",
    "print ('candidate count = ', len(models))\n",
    "\n",
    "_log_act_func = lambda _x: torch.log(1 + torch.abs(_x))"
   ]
  },
  {
   "cell_type": "markdown",
   "metadata": {},
   "source": [
    "## Training"
   ]
  },
  {
   "cell_type": "code",
   "execution_count": 29,
   "metadata": {},
   "outputs": [],
   "source": [
    "s=1\n",
    "voxel_subset = {}\n",
    "ordering_subset = {}\n",
    "val_voxel_subset = {}\n",
    "val_ordering_subset = {}\n",
    "val_stim_subset = {}\n",
    "max_samples = 1000\n",
    "val_max_samples = 2000\n",
    "max_voxels = 2000\n",
    "val_max_voxels = 2000\n",
    "\n",
    "num_samples = min(max_samples, trn_voxel_data[s].shape[0])\n",
    "num_voxels = min(max_voxels, trn_voxel_data[s].shape[1])\n",
    "val_num_samples = min(val_max_samples, val_voxel_data[s].shape[0])\n",
    "val_num_voxels = min(val_max_voxels, val_voxel_data[s].shape[1])\n",
    "subset_idx = np.arange(num_samples)\n",
    "val_subset_idx = np.arange(val_num_samples)\n",
    "\n",
    "voxel_subset[s] = trn_voxel_data[s][subset_idx, :num_voxels]\n",
    "ordering_subset[s] = trn_stim_ordering[s][subset_idx]  \n",
    "val_voxel_subset[s] = val_voxel_data[s][val_subset_idx, :val_num_voxels]\n",
    "val_ordering_subset[s] = val_stim_ordering[s][val_subset_idx] \n",
    "val_stim_subset[s]=[]\n",
    "for idx in val_ordering_subset[s]:\n",
    "    val_stim_subset[s].append(stim_data[s][idx])\n",
    "val_stim_subset[s]=np.array(stim_data[s])"
   ]
  },
  {
   "cell_type": "code",
   "execution_count": 30,
   "metadata": {},
   "outputs": [
    {
     "name": "stdout",
     "output_type": "stream",
     "text": [
      "(10000, 3, 227, 227)\n",
      "train subset\n",
      "(27000, 4657)\n",
      "(1000, 2000)\n",
      "(27000,)\n",
      "(1000,)\n",
      "val subset\n",
      "(3000, 4657)\n",
      "(2000, 2000)\n",
      "(3000,)\n",
      "(2000,)\n",
      "(10000, 3, 227, 227)\n",
      "(10000, 3, 227, 227)\n"
     ]
    }
   ],
   "source": [
    "print(stim_data[1].shape)\n",
    "\n",
    "print('train subset')\n",
    "print(trn_voxel_data[1].shape)\n",
    "print(voxel_subset[1].shape)\n",
    "print(trn_stim_ordering[1].shape)\n",
    "print(ordering_subset[1].shape)\n",
    "\n",
    "print('val subset')\n",
    "print(val_voxel_data[1].shape)\n",
    "print(val_voxel_subset[1].shape)\n",
    "print(val_stim_ordering[1].shape)\n",
    "print(val_ordering_subset[1].shape)\n",
    "print(val_stim_subset[1].shape)\n",
    "print(stim_data[1].shape)"
   ]
  },
  {
   "cell_type": "code",
   "execution_count": 32,
   "metadata": {},
   "outputs": [],
   "source": [
    "def get_value(_x):\n",
    "    return np.copy(_x.data.cpu().numpy())\n",
    "def set_value(_x, x):\n",
    "    _x.data.copy_(T.from_numpy(x))\n",
    "def subject_pred_pass(s, x, v, batch_size, params_subset):\n",
    "    pred = get_predictions(x, _fmaps_fn, _fwrf_fn, params_subset, sample_batch_size=batch_size)\n",
    "    return pred\n",
    "def validation_fn(s, xb):\n",
    "    _,r,_ = model_fn(s, T.from_numpy(xb).to(device))\n",
    "    return r\n",
    "def subject_validation_pass(s, x, v, batch_size, params_subset):\n",
    "    val_cc  = np.zeros(shape=(v.shape[1]), dtype=v.dtype)\n",
    "    val_pred = subject_pred_pass(s, x, v, batch_size, params_subset)\n",
    "    for i in range(v.shape[1]):\n",
    "        val_cc[i] = np.corrcoef(v[:,i], val_pred[:,i])[0,1]  \n",
    "    return val_cc,val_pred,v\n",
    "    \n",
    "def learn_params_(_fmaps_fn, stims, voxels, ordering,\n",
    "                  sample_batch_size, voxel_batch_size,\n",
    "                  holdout_frac, lambdas, aperture,\n",
    "                  nl=None, trn_size=None, randomize=False):\n",
    "    \n",
    "    from src.torch_fwrf import learn_params_ridge_regression, _to_torch\n",
    "    best_losses, best_lambdas, best_params = {}, {}, {}\n",
    "    trn_index, hld_index = {}, {}\n",
    "\n",
    "    for s in voxels.keys():\n",
    "        # ------------------------------\n",
    "        # Indexing logic (unchanged)\n",
    "        # ------------------------------\n",
    "        full_len = len(ordering[s])\n",
    "        ts = min(trn_size or full_len, full_len)\n",
    "        index = np.arange(full_len)\n",
    "        if randomize:\n",
    "            np.random.shuffle(index)\n",
    "        holdout_size = int(np.ceil(ts * holdout_frac))\n",
    "        trn_actual = ts - holdout_size\n",
    "\n",
    "        trn_index[s] = index[:trn_actual]\n",
    "        hld_index[s] = index[trn_actual:]\n",
    "        \n",
    "        ordered_stims = stims[s][ordering[s][index[:ts]]]\n",
    "\n",
    "        # ------------------------------\n",
    "        # Precompute fmaps once\n",
    "        # ------------------------------\n",
    "        with torch.no_grad():\n",
    "            print(f\"[{s}] Precomputing feature maps...\")\n",
    "            stim_batches = [ordered_stims[i:i+sample_batch_size] for i in range(0, len(ordered_stims), sample_batch_size)]\n",
    "            fmaps_list = []\n",
    "            for batch in stim_batches:\n",
    "                torch_batch = _to_torch(batch, device=next(_fmaps_fn.parameters()).device)\n",
    "                fmaps = _fmaps_fn(torch_batch)\n",
    "                fmaps_list.append([f.detach() for f in fmaps])  # detach to avoid autograd\n",
    "                \n",
    "        best_losses[s], best_lambdas[s], best_params[s] = learn_params_ridge_regression(\n",
    "            ordered_stims, voxels[s][index[:ts]], _fmaps_fn, models, lambdas,\n",
    "            aperture=aperture, _nonlinearity=nl, zscore=True,\n",
    "            sample_batch_size=sample_batch_size,\n",
    "            voxel_batch_size=voxel_batch_size,\n",
    "            holdout_size=holdout_size,\n",
    "            shuffle=False,\n",
    "            add_bias=True,\n",
    "            precomputed_fmaps=fmaps_list  # <-- pass to inner function\n",
    "        )\n",
    "    return best_params, best_losses, best_lambdas, trn_index, hld_index\n",
    "    \n",
    "def validation_(stims, voxels, batch_size):\n",
    "    subject_val_cc = {}\n",
    "    #shared_model.eval()\n",
    "    for s in best_params.keys():\n",
    "        val_cc,val_pred,v = subject_validation_pass(s, stims[s], voxels[s], batch_size, best_params[s]) \n",
    "        #subject_val_cc[s] = np.nan_to_num(val_cc)\n",
    "        subject_val_cc[s] = val_cc\n",
    "    return subject_val_cc,val_pred,v\n",
    "    \n",
    "def sample_with_replacement(indices):\n",
    "    return indices[np.random.randint(len(indices), size=len(indices))]   \n",
    "    \n",
    "def cc_resampling_with_replacement(s, x, v, batch_size, n_resample=1):\n",
    "    pred = subject_pred_pass(s, x, v, batch_size)\n",
    "    cc = np.zeros(shape=(v.shape[1]), dtype=fpX)\n",
    "    ccs = []\n",
    "    for rs in tqdm(range(n_resample)):\n",
    "        res = sample_with_replacement(np.arange(len(pred)))\n",
    "        data_res = v[res]\n",
    "        pred_res = pred[res]\n",
    "        for i in range(data_res.shape[1]):\n",
    "            cc[i] = np.corrcoef(data_res[:,i], pred_res[:,i])[0,1]  \n",
    "        ccs += [np.nan_to_num(cc)]\n",
    "    return ccs"
   ]
  },
  {
   "cell_type": "code",
   "execution_count": 33,
   "metadata": {},
   "outputs": [
    {
     "name": "stdout",
     "output_type": "stream",
     "text": [
      "[1] Precomputing feature maps...\n",
      "new ridge\n",
      "trn_size = 900 (90.0%)\n",
      "dtype = <class 'numpy.float32'>\n",
      "device = cuda:0\n",
      "---------------------------------------\n",
      "torch.Size([100, 256, 27, 27])\n",
      "torch.Size([100, 896, 13, 13])\n",
      "torch.Size([100, 1536, 1, 1])\n",
      "---------------------------------------\n",
      "\n",
      "model 2670 of 2671, voxels [  1500:1999  ] of 2000voxel batch [1500:1999]\n",
      "imp.sum() = 1\n",
      "betas shape = (6, 2689, 500)\n",
      "select shape = (6, 2689, 1)\n",
      "\n",
      "---------------------------------------\n",
      "total time = 914.493309s\n",
      "total throughput = 0.457247s/voxel\n",
      "voxel throughput = 0.212277s/voxel\n",
      "setup throughput = 0.183429s/model\n"
     ]
    }
   ],
   "source": [
    "sample_batch_size = 100\n",
    "voxel_batch_size = 500\n",
    "holdout_frac = 0.1\n",
    "lambdas = np.logspace(4.,6.,6, dtype=np.float32)\n",
    "\n",
    "best_params, best_losses, best_lambdas, trn_index, hld_index = \\\n",
    "    learn_params_(_fmaps_fn, stim_data, voxel_subset, ordering_subset, sample_batch_size, voxel_batch_size, holdout_frac, lambdas, aperture, nl=None, trn_size=None, randomize=False)"
   ]
  },
  {
   "cell_type": "markdown",
   "metadata": {},
   "source": [
    "## Validation"
   ]
  },
  {
   "cell_type": "code",
   "execution_count": 34,
   "metadata": {},
   "outputs": [
    {
     "name": "stdout",
     "output_type": "stream",
     "text": [
      "samples [ 1900:1999 ] of 2000, voxels [  1500:1999  ] of 2000\n",
      "---------------------------------------\n",
      "total time = 21.560084s\n",
      "sample throughput = 0.010780s/sample\n",
      "voxel throughput = 0.010780s/voxel\n"
     ]
    }
   ],
   "source": [
    "from src.torch_fwrf import Torch_fwRF_voxel_block\n",
    "sample_batch_size = 100\n",
    "\n",
    "param_batch = [p[:voxel_batch_size] if p is not None else None for p in best_params[list(best_params.keys())[0]]]\n",
    "_fwrf_fn = Torch_fwRF_voxel_block(_fmaps_fn, param_batch, _nonlinearity=_log_act_func, input_shape=stim_data[list(stim_data.keys())[0]].shape, aperture=1.0)\n",
    "\n",
    "subject_val_cc,val_pred,v = validation_({s: stim[order] for s,stim,order in zip_dict(stim_data, val_ordering_subset)},val_voxel_subset,sample_batch_size)\n",
    "joined_val_cc = np.concatenate(list(subject_val_cc.values()), axis=0)"
   ]
  },
  {
   "cell_type": "code",
   "execution_count": 35,
   "metadata": {},
   "outputs": [
    {
     "name": "stdout",
     "output_type": "stream",
     "text": [
      "0.057243530069720355\n",
      "-0.006993657715601015\n",
      "0.030297680335323176\n",
      "-0.0020894772876190616\n",
      "0.047965138794269384\n",
      "-0.007355606535427565\n",
      "0.03467643674186878\n",
      "0.08863145958020847\n",
      "0.02310493961419686\n",
      "0.2489481022525477\n"
     ]
    }
   ],
   "source": [
    "for i in range(10):\n",
    "    print(np.corrcoef(v[:,i], val_pred[:,i])[0,1])"
   ]
  },
  {
   "cell_type": "code",
   "execution_count": 36,
   "metadata": {},
   "outputs": [
    {
     "name": "stdout",
     "output_type": "stream",
     "text": [
      "best joint val cc = 0.234\n",
      "subject 1: val cc = 0.234\n"
     ]
    },
    {
     "data": {
      "image/png": "[encoded data removed]",
      "text/plain": [
       "<Figure size 1200x400 with 1 Axes>"
      ]
     },
     "metadata": {},
     "output_type": "display_data"
    }
   ],
   "source": [
    "#print (\"best joint score = %.3f\"%best_joint_cc_score)\n",
    "print (\"best joint val cc = %.3f\"% np.median(joined_val_cc))\n",
    "for s,v in subject_val_cc.items():\n",
    "    print (\"subject %s: val cc = %.3f\"%(s, np.median(v)))\n",
    "\n",
    "fig=plt.figure(figsize=(12,4))\n",
    "plt.subplots_adjust(left=0., bottom=0.2, right=1., top=1., wspace=0., hspace=0.)\n",
    "_=plt.hist(joined_val_cc, bins=100, density=True, range=(-.5, 1.))\n",
    "_=plt.vlines(x=[0], ymin=1e-4, ymax=25, color='r')\n",
    "_=plt.yscale('log')\n",
    "_=plt.xlim([-.1, 0.9])\n",
    "_=plt.xlabel(r'$\\rho$')\n",
    "_=plt.ylabel('Relative frequency')"
   ]
  },
  {
   "cell_type": "markdown",
   "metadata": {},
   "source": [
    "# Save results to file"
   ]
  },
  {
   "cell_type": "code",
   "execution_count": 37,
   "metadata": {},
   "outputs": [],
   "source": [
    "torch.save({\n",
    "            'subjects': trn_subjects,\n",
    "            'sample_batch_size': sample_batch_size,\n",
    "            'voxel_batch_size': voxel_batch_size,\n",
    "            'holdout_frac': holdout_frac,  \n",
    "            'lmask': lmask,\n",
    "            'fmask': fmask,\n",
    "            'tuning_masks': tuning_masks,\n",
    "            'best_params': best_params, \n",
    "            'val_cc': subject_val_cc,\n",
    "            'brain_nii_shape': brain_nii_shape,\n",
    "            'voxel_index': voxel_idx,\n",
    "            'voxel_roi': voxel_roi,\n",
    "            'voxel_mask': voxel_mask\n",
    "            },output_dir+'model_params_1000samples_500voxels')"
   ]
  },
  {
   "cell_type": "code",
   "execution_count": 165,
   "metadata": {},
   "outputs": [
    {
     "data": {
      "text/plain": [
       "'C:/Data/nsd_test/output/multisubject/anet_fwrf_nsdgeneral_Apr-05-2025_0007/'"
      ]
     },
     "execution_count": 165,
     "metadata": {},
     "output_type": "execute_result"
    }
   ],
   "source": [
    "output_dir"
   ]
  },
  {
   "cell_type": "code",
   "execution_count": null,
   "metadata": {},
   "outputs": [],
   "source": []
  }
 ],
 "metadata": {
  "kernelspec": {
   "display_name": "Python 3 (ipykernel)",
   "language": "python",
   "name": "python3"
  },
  "language_info": {
   "codemirror_mode": {
    "name": "ipython",
    "version": 3
   },
   "file_extension": ".py",
   "mimetype": "text/x-python",
   "name": "python",
   "nbconvert_exporter": "python",
   "pygments_lexer": "ipython3",
   "version": "3.12.9"
  }
 },
 "nbformat": 4,
 "nbformat_minor": 4
}
